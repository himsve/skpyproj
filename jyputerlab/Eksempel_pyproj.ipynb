{
 "cells": [
  {
   "cell_type": "code",
   "execution_count": 33,
   "id": "6ed80fdf-cc56-4708-96c5-db18c148d34b",
   "metadata": {},
   "outputs": [],
   "source": [
    "from pyproj import CRS, Transformer\n"
   ]
  },
  {
   "cell_type": "code",
   "execution_count": 34,
   "id": "2c0f21a9-be39-4f65-b885-982cf8c28bb1",
   "metadata": {},
   "outputs": [],
   "source": [
    "transformer1 = Transformer.from_crs(\"EPSG:4258\", \"EPSG:25832\", always_xy=True)"
   ]
  },
  {
   "cell_type": "code",
   "execution_count": 35,
   "id": "f86ee479-3717-45be-b6fc-6aa8895691a1",
   "metadata": {},
   "outputs": [
    {
     "data": {
      "text/plain": [
       "(555776.2667522985, 6651832.735310652)"
      ]
     },
     "execution_count": 35,
     "metadata": {},
     "output_type": "execute_result"
    }
   ],
   "source": [
    "transformer1.transform(10,60)"
   ]
  },
  {
   "cell_type": "code",
   "execution_count": 36,
   "id": "5f71b9bf-0181-42a7-9ed9-4c53e340d66a",
   "metadata": {},
   "outputs": [],
   "source": [
    "transformer2 = Transformer.from_crs(\"EPSG:7912\", \"EPSG:4937\", always_xy=True)"
   ]
  },
  {
   "cell_type": "code",
   "execution_count": 37,
   "id": "f045cefc-fc94-4cab-b62d-ca86cee9b12c",
   "metadata": {},
   "outputs": [
    {
     "data": {
      "text/plain": [
       "(9.999991896246904, 59.99999511175589, 99.86651624552906, 2020.0)"
      ]
     },
     "execution_count": 37,
     "metadata": {},
     "output_type": "execute_result"
    }
   ],
   "source": [
    "transformer2.transform(10,60,100,2020)"
   ]
  },
  {
   "cell_type": "code",
   "execution_count": 38,
   "id": "bd30fb3b-ce75-406d-80b5-5d31751eb209",
   "metadata": {},
   "outputs": [],
   "source": [
    "transformer3 = Transformer.from_crs(\"EPSG:4258\", \"EPSG:5942\", always_xy=True)"
   ]
  },
  {
   "cell_type": "code",
   "execution_count": 39,
   "id": "e5814bce-0289-46b3-a8a0-2dd253eab036",
   "metadata": {},
   "outputs": [
    {
     "data": {
      "text/plain": [
       "(10.0, 59.99999999999999, 59.43600082397461)"
      ]
     },
     "execution_count": 39,
     "metadata": {},
     "output_type": "execute_result"
    }
   ],
   "source": [
    "transformer3.transform(10,60,100)"
   ]
  },
  {
   "cell_type": "code",
   "execution_count": null,
   "id": "e6f0c7f7-3f4b-4146-b68f-2308989f2350",
   "metadata": {},
   "outputs": [],
   "source": []
  }
 ],
 "metadata": {
  "kernelspec": {
   "display_name": "Python 3 (ipykernel)",
   "language": "python",
   "name": "python3"
  },
  "language_info": {
   "codemirror_mode": {
    "name": "ipython",
    "version": 3
   },
   "file_extension": ".py",
   "mimetype": "text/x-python",
   "name": "python",
   "nbconvert_exporter": "python",
   "pygments_lexer": "ipython3",
   "version": "3.8.12"
  }
 },
 "nbformat": 4,
 "nbformat_minor": 5
}
